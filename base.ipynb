{
 "cells": [
  {
   "cell_type": "markdown",
   "id": "c7e71f36",
   "metadata": {},
   "source": [
    "# This is just a markdown line \n",
    "here i can write my tutorials and instructions about the line"
   ]
  },
  {
   "cell_type": "code",
   "execution_count": 1,
   "id": "5722cd55",
   "metadata": {},
   "outputs": [
    {
     "name": "stdout",
     "output_type": "stream",
     "text": [
      "Hello worrld\n"
     ]
    }
   ],
   "source": [
    "print(\"Hello worrld\")"
   ]
  },
  {
   "cell_type": "code",
   "execution_count": 4,
   "id": "792a4806",
   "metadata": {},
   "outputs": [
    {
     "name": "stdout",
     "output_type": "stream",
     "text": [
      "56\n"
     ]
    }
   ],
   "source": [
    "print(7*8)"
   ]
  },
  {
   "cell_type": "code",
   "execution_count": 3,
   "id": "78c1054b",
   "metadata": {},
   "outputs": [
    {
     "data": {
      "text/plain": [
       "8"
      ]
     },
     "execution_count": 3,
     "metadata": {},
     "output_type": "execute_result"
    }
   ],
   "source": [
    "operation = \"add\"\n",
    "\n",
    "def calculator_function(a,b,operation):\n",
    "    if operation == \"add\":\n",
    "        return a + b\n",
    "\n",
    "calculator_function(5, 3, operation)"
   ]
  }
 ],
 "metadata": {
  "kernelspec": {
   "display_name": "Python 3",
   "language": "python",
   "name": "python3"
  },
  "language_info": {
   "codemirror_mode": {
    "name": "ipython",
    "version": 3
   },
   "file_extension": ".py",
   "mimetype": "text/x-python",
   "name": "python",
   "nbconvert_exporter": "python",
   "pygments_lexer": "ipython3",
   "version": "3.11.8"
  }
 },
 "nbformat": 4,
 "nbformat_minor": 5
}
